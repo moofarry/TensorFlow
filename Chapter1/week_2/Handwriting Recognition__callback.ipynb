{
 "cells": [
  {
   "cell_type": "markdown",
   "metadata": {
    "colab_type": "text",
    "id": "tOoyQ70H00_s"
   },
   "source": [
    "## Exercise \n",
    "Write an MNIST classifier that trains to 99% accuracy or above, and does it without a fixed number of epochs -- i.e. you should stop training once you reach that level of accuracy.\n"
   ]
  },
  {
   "cell_type": "code",
   "execution_count": 9,
   "metadata": {},
   "outputs": [],
   "source": [
    "import tensorflow as tf\n",
    "from os import path, getcwd, chdir\n",
    "\n",
    "# DO NOT CHANGE THE LINE BELOW. If you are developing in a local\n",
    "# environment, then grab mnist.npz from the Coursera Jupyter Notebook\n",
    "# and place it inside a local folder and edit the path to that location\n",
    "path = f\"{getcwd()}/../tmp2/mnist.npz\""
   ]
  },
  {
   "cell_type": "code",
   "execution_count": 10,
   "metadata": {},
   "outputs": [],
   "source": [
    "class myCallback(tf.keras.callbacks.Callback):\n",
    "    def on_epochs_end(self,epochs,logs={}):\n",
    "        if(logs.get('acc')>0.99):\n",
    "            print(\"Reached 99% accuracy so cancelling training\")\n",
    "            self.model.stop_training=True"
   ]
  },
  {
   "cell_type": "code",
   "execution_count": 11,
   "metadata": {
    "colab": {},
    "colab_type": "code",
    "id": "9rvXQGAA0ssC"
   },
   "outputs": [],
   "source": [
    "# GRADED FUNCTION: train_mnist\n",
    "def train_mnist():\n",
    "    \n",
    "    \n",
    "    callbacks=myCallback()\n",
    "\n",
    "\n",
    "    mnist = tf.keras.datasets.mnist\n",
    "\n",
    "    (x_train, y_train),(x_test, y_test) = mnist.load_data(path=path)\n",
    "   \n",
    "    x_train=x_train/255.0\n",
    "    x_test=x_test/255.0\n",
    "\n",
    "\n",
    "    model = tf.keras.models.Sequential([tf.keras.layers.Flatten(),\n",
    "                                        tf.keras.layers.Dense(512,activation=tf.nn.relu),\n",
    "                                        tf.keras.layers.Dense(10,activation=tf.nn.softmax),\n",
    "                                       ])\n",
    "\n",
    "    model.compile(optimizer='adam',\n",
    "                  loss='sparse_categorical_crossentropy',\n",
    "                  metrics=['accuracy'])\n",
    "    \n",
    "    history = model.fit(x_train,y_train,epochs=9,callbacks=[callbacks])\n",
    "\n",
    "    return history.epoch, history.history['acc'][-1]"
   ]
  },
  {
   "cell_type": "code",
   "execution_count": 12,
   "metadata": {
    "colab": {},
    "colab_type": "code",
    "id": "9rvXQGAA0ssC"
   },
   "outputs": [
    {
     "name": "stdout",
     "output_type": "stream",
     "text": [
      "Epoch 1/9\n",
      "60000/60000 [==============================] - 16s 260us/sample - loss: 0.1996 - acc: 0.9412\n",
      "Epoch 2/9\n",
      "60000/60000 [==============================] - 16s 258us/sample - loss: 0.0797 - acc: 0.9757\n",
      "Epoch 3/9\n",
      "60000/60000 [==============================] - 15s 258us/sample - loss: 0.0516 - acc: 0.9840\n",
      "Epoch 4/9\n",
      "60000/60000 [==============================] - 15s 258us/sample - loss: 0.0370 - acc: 0.9879\n",
      "Epoch 5/9\n",
      "60000/60000 [==============================] - 15s 258us/sample - loss: 0.0259 - acc: 0.9918\n",
      "Epoch 6/9\n",
      "60000/60000 [==============================] - 15s 257us/sample - loss: 0.0206 - acc: 0.9934\n",
      "Epoch 7/9\n",
      "60000/60000 [==============================] - 15s 258us/sample - loss: 0.0185 - acc: 0.9939\n",
      "Epoch 8/9\n",
      "60000/60000 [==============================] - 16s 260us/sample - loss: 0.0134 - acc: 0.9955\n",
      "Epoch 9/9\n",
      "60000/60000 [==============================] - 15s 258us/sample - loss: 0.0128 - acc: 0.9956\n"
     ]
    },
    {
     "data": {
      "text/plain": [
       "([0, 1, 2, 3, 4, 5, 6, 7, 8], 0.99556667)"
      ]
     },
     "execution_count": 12,
     "metadata": {},
     "output_type": "execute_result"
    }
   ],
   "source": [
    "train_mnist()"
   ]
  }
 ],
 "metadata": {
  "coursera": {
   "course_slug": "introduction-tensorflow",
   "graded_item_id": "d6dew",
   "launcher_item_id": "FExZ4"
  },
  "kernelspec": {
   "display_name": "Python 3",
   "language": "python",
   "name": "python3"
  },
  "language_info": {
   "codemirror_mode": {
    "name": "ipython",
    "version": 3
   },
   "file_extension": ".py",
   "mimetype": "text/x-python",
   "name": "python",
   "nbconvert_exporter": "python",
   "pygments_lexer": "ipython3",
   "version": "3.8.3"
  }
 },
 "nbformat": 4,
 "nbformat_minor": 1
}

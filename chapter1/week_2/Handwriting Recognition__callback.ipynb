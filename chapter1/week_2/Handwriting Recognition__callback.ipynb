{
 "cells": [
  {
   "cell_type": "markdown",
   "metadata": {
    "colab_type": "text",
    "id": "tOoyQ70H00_s"
   },
   "source": [
    "## Exercise \n",
    "Write an MNIST classifier that trains to 99% accuracy or above, and does it without a fixed number of epochs -- i.e. you should stop training once you reach that level of accuracy.\n"
   ]
  },
  {
   "cell_type": "code",
   "execution_count": 16,
   "metadata": {},
   "outputs": [
    {
     "name": "stdout",
     "output_type": "stream",
     "text": [
      "--2020-12-03 09:42:28--  https://storage.googleapis.com/tensorflow/tf-keras-datasets/mnist.npz\n",
      "Resolviendo storage.googleapis.com (storage.googleapis.com)... 172.217.173.208, 172.217.173.48, 172.217.172.16, ...\n",
      "Conectando con storage.googleapis.com (storage.googleapis.com)[172.217.173.208]:443... conectado.\n",
      "Petición HTTP enviada, esperando respuesta... 200 OK\n",
      "Longitud: 11490434 (11M) [application/octet-stream]\n",
      "Guardando como: “mnist.npz”\n",
      "\n",
      "mnist.npz           100%[===================>]  10,96M  8,90MB/s    en 1,2s    \n",
      "\n",
      "2020-12-03 09:42:30 (8,90 MB/s) - “mnist.npz” guardado [11490434/11490434]\n",
      "\n"
     ]
    }
   ],
   "source": [
    "!wget --no-check-certificate \\\n",
    "    https://storage.googleapis.com/tensorflow/tf-keras-datasets/mnist.npz"
   ]
  },
  {
   "cell_type": "code",
   "execution_count": 17,
   "metadata": {},
   "outputs": [],
   "source": [
    "import tensorflow as tf\n",
    "from os import path, getcwd, chdir\n",
    "\n",
    "        \n",
    "path = f\"{getcwd()}/mnist.npz\""
   ]
  },
  {
   "cell_type": "code",
   "execution_count": 18,
   "metadata": {},
   "outputs": [],
   "source": [
    "class myCallback(tf.keras.callbacks.Callback):\n",
    "    def on_epochs_end(self,epochs,logs={}):\n",
    "        if(logs.get('acc')>0.99):\n",
    "            print(\"Reached 99% accuracy so cancelling training\")\n",
    "            self.model.stop_training=True"
   ]
  },
  {
   "cell_type": "code",
   "execution_count": 24,
   "metadata": {
    "colab": {},
    "colab_type": "code",
    "id": "9rvXQGAA0ssC"
   },
   "outputs": [],
   "source": [
    "# GRADED FUNCTION: train_mnist\n",
    "def train_mnist():\n",
    "    \n",
    "    \n",
    "    callbacks=myCallback()\n",
    "\n",
    "\n",
    "    mnist = tf.keras.datasets.mnist\n",
    "\n",
    "    (x_train, y_train),(x_test, y_test) = mnist.load_data(path=path)\n",
    "   \n",
    "    x_train=x_train/255.0\n",
    "    x_test=x_test/255.0\n",
    "\n",
    "\n",
    "    model = tf.keras.models.Sequential([tf.keras.layers.Flatten(),\n",
    "                                        tf.keras.layers.Dense(512,activation=tf.nn.relu),\n",
    "                                        tf.keras.layers.Dense(10,activation=tf.nn.softmax),\n",
    "                                       ])\n",
    "\n",
    "    model.compile(optimizer='adam',\n",
    "                  loss='sparse_categorical_crossentropy',\n",
    "                  metrics=['accuracy'])\n",
    "    \n",
    "    history = model.fit(x_train,y_train,epochs=7,callbacks=[callbacks])\n",
    "\n",
    "    return history.epoch, history.history['accuracy'][-1]"
   ]
  },
  {
   "cell_type": "code",
   "execution_count": 25,
   "metadata": {
    "colab": {},
    "colab_type": "code",
    "id": "9rvXQGAA0ssC"
   },
   "outputs": [
    {
     "name": "stdout",
     "output_type": "stream",
     "text": [
      "Train on 60000 samples\n",
      "Epoch 1/7\n",
      "60000/60000 [==============================] - 3s 57us/sample - loss: 0.2004 - accuracy: 0.9413\n",
      "Epoch 2/7\n",
      "60000/60000 [==============================] - 3s 56us/sample - loss: 0.0793 - accuracy: 0.9755\n",
      "Epoch 3/7\n",
      "60000/60000 [==============================] - 3s 54us/sample - loss: 0.0520 - accuracy: 0.9836\n",
      "Epoch 4/7\n",
      "60000/60000 [==============================] - 3s 54us/sample - loss: 0.0364 - accuracy: 0.9880\n",
      "Epoch 5/7\n",
      "60000/60000 [==============================] - 3s 53us/sample - loss: 0.0269 - accuracy: 0.9916\n",
      "Epoch 6/7\n",
      "60000/60000 [==============================] - 3s 54us/sample - loss: 0.0214 - accuracy: 0.9929\n",
      "Epoch 7/7\n",
      "60000/60000 [==============================] - 3s 54us/sample - loss: 0.0166 - accuracy: 0.9944\n"
     ]
    },
    {
     "data": {
      "text/plain": [
       "([0, 1, 2, 3, 4, 5, 6], 0.99441665)"
      ]
     },
     "execution_count": 25,
     "metadata": {},
     "output_type": "execute_result"
    }
   ],
   "source": [
    "train_mnist()"
   ]
  }
 ],
 "metadata": {
  "coursera": {
   "course_slug": "introduction-tensorflow",
   "graded_item_id": "d6dew",
   "launcher_item_id": "FExZ4"
  },
  "kernelspec": {
   "display_name": "Python 3",
   "language": "python",
   "name": "python3"
  },
  "language_info": {
   "codemirror_mode": {
    "name": "ipython",
    "version": 3
   },
   "file_extension": ".py",
   "mimetype": "text/x-python",
   "name": "python",
   "nbconvert_exporter": "python",
   "pygments_lexer": "ipython3",
   "version": "3.7.9"
  }
 },
 "nbformat": 4,
 "nbformat_minor": 1
}

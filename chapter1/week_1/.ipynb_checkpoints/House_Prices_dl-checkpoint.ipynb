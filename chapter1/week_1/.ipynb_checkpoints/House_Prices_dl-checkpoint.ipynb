{
 "cells": [
  {
   "cell_type": "markdown",
   "metadata": {
    "colab_type": "text",
    "id": "hXd0TzkoyTMi"
   },
   "source": [
    "## Overview \n",
    "\n",
    "In this notebook we created a model with neural networks to estimate how much a caa would be worth if it had 7 rooms, taking into account the following information\n",
    "\n",
    "Imagine if house pricing was as easy as a house costs 50k + 50k per bedroom, so that a 1 bedroom house costs 100k, a 2 bedroom house costs 150k etc.\n",
    "\n",
    "- How would you create a neural network that learns this relationship so that it would predict a 7 bedroom house as costing close to 400k etc."
   ]
  },
  {
   "cell_type": "code",
   "execution_count": 1,
   "metadata": {
    "colab": {
     "base_uri": "https://localhost:8080/",
     "height": 34
    },
    "colab_type": "code",
    "executionInfo": {
     "elapsed": 606,
     "status": "ok",
     "timestamp": 1598111585747,
     "user": {
      "displayName": "Jhon Freddy Moofarry Villaquiran",
      "photoUrl": "https://lh3.googleusercontent.com/a-/AOh14Gh1JGr4J7kUl6BujdwadEwiNQhQvhbMg8QWPEn5NA=s64",
      "userId": "10620199596948843247"
     },
     "user_tz": 300
    },
    "id": "cckuf5nf0eHW",
    "outputId": "1610b10c-cb45-442b-9cf2-4c86bb757dfd"
   },
   "outputs": [
    {
     "name": "stdout",
     "output_type": "stream",
     "text": [
      "2.2.0\n"
     ]
    }
   ],
   "source": [
    "\n",
    "import tensorflow as tf\n",
    "import numpy as np\n",
    "from tensorflow import keras\n",
    "print(tf.__version__)"
   ]
  },
  {
   "cell_type": "code",
   "execution_count": 2,
   "metadata": {
    "colab": {},
    "colab_type": "code",
    "id": "zTSr4oTOyOaE"
   },
   "outputs": [],
   "source": [
    "\n",
    "def house_model(y_new):\n",
    "    xs = np.array([1.0, 2.0, 3.0, 4.0, 5.0, 6.0, 8.0, 9.0, 10.0, 11.0, 12.0, 13.0], dtype=float)\n",
    "    ys = np.array([100.0, 150.0, 200.0, 250.0, 300.0, 350.0, 450.0, 500.0, 550.0,600.0, 650.0,700.0], dtype=float)\n",
    "    model = tf.keras.Sequential([keras.layers.Dense(units=1, input_shape=[1])])\n",
    "    model.compile(optimizer='sgd',loss='mean_squared_error')\n",
    "    model.fit(xs,ys,epochs=100)\n",
    "    return (model.predict(y_new)[0]+1) //100\n"
   ]
  },
  {
   "cell_type": "code",
   "execution_count": null,
   "metadata": {
    "colab": {
     "base_uri": "https://localhost:8080/",
     "height": 1000
    },
    "colab_type": "code",
    "executionInfo": {
     "elapsed": 1634,
     "status": "ok",
     "timestamp": 1598111618422,
     "user": {
      "displayName": "Jhon Freddy Moofarry Villaquiran",
      "photoUrl": "https://lh3.googleusercontent.com/a-/AOh14Gh1JGr4J7kUl6BujdwadEwiNQhQvhbMg8QWPEn5NA=s64",
      "userId": "10620199596948843247"
     },
     "user_tz": 300
    },
    "id": "FcDM73g50gNr",
    "outputId": "113c958a-5d71-436e-ce03-53b2eec2a6ef"
   },
   "outputs": [],
   "source": [
    "\n",
    "prediction = house_model([7.0])\n",
    "print(prediction)"
   ]
  }
 ],
 "metadata": {
  "colab": {
   "authorship_tag": "ABX9TyOUxCbnQKp0Z8dYvpTwNWrL",
   "collapsed_sections": [],
   "name": "House_Prices_dl.ipynb",
   "provenance": []
  },
  "kernelspec": {
   "display_name": "Python 3",
   "language": "python",
   "name": "python3"
  },
  "language_info": {
   "codemirror_mode": {
    "name": "ipython",
    "version": 3
   },
   "file_extension": ".py",
   "mimetype": "text/x-python",
   "name": "python",
   "nbconvert_exporter": "python",
   "pygments_lexer": "ipython3",
   "version": "3.7.9"
  }
 },
 "nbformat": 4,
 "nbformat_minor": 1
}
